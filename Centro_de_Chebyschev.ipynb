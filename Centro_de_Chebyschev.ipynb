{
  "nbformat": 4,
  "nbformat_minor": 0,
  "metadata": {
    "colab": {
      "name": "Centro de Chebyschev.ipynb",
      "provenance": [],
      "collapsed_sections": []
    },
    "kernelspec": {
      "name": "python3",
      "display_name": "Python 3"
    },
    "language_info": {
      "name": "python"
    }
  },
  "cells": [
    {
      "cell_type": "markdown",
      "metadata": {
        "id": "ntepyWGfLZwx"
      },
      "source": [
        "#O Problema do Centro de Chebyshev\n",
        "Escrito por: Lucka de Godoy Gianvechio\n",
        "\n",
        "\n",
        "#Apresentando o problema\n",
        " Dado um polígono convexo, o problema consiste basicamente em encontrar o centro da esfera de maior raio contida inteiramente no polígono. Podemos denotar o polígono como $P = \\{x \\in \\mathbf{R}^n | a_i'x \\leq b_i, i = 1,2,\\dots,m \\}$ o conjunto de todos os pontos contidos dentro de um conjunto de restrições. Perceba que o polígono em questão pode ter quantas dimensões forem desejadas, e as fronteiras que delimitam esse polígono são dadas por hiperplanos em $\\mathbf{R}^n$. Os hiperplanos serão dados pela matriz de coeficientes $A$ e pelo vetor $b$. A matriz de pesos é da forma:\n",
        "\n",
        "$$\n",
        "A = \\begin{pmatrix}\n",
        "a_1' \\\\\n",
        "a_2' \\\\\n",
        "\\vdots \\\\\n",
        "a_n' \\\\\n",
        "\\end{pmatrix}\n",
        "$$\n",
        "\n",
        "Tal que $a_i'$ é vetor linha com os coeficientes, e teremos a seguinte equação que caracteriza o polígono: $$ Ax \\leq b $$\n",
        "\n",
        "Devemos então encontrar a maior esfera em $\\mathbf{R}^n$ que satisfaça as restrições dadas pela formula acima. \n",
        "\n",
        "#Encontrando uma solução\n",
        "\n",
        "Vamos começar definindo os pontos dentro da esfera. Seja $B(c, r) = \\{p \\in \\mathbf{R}^n|p = c + t, \\text{onde } ||t|| \\leq r \\}$ a bola de centro $c \\in \\mathbf{R}^n$ e raio $r \\geq 0$, ou seja, o conjunto de todos os pontos gerados a partir da soma do centro e qualquer vetor com módulo menor ou igual ao raio.\n",
        "\n",
        "Para que valham as restrições devemos garantir que $a_i'p \\leq b_i, \\forall p \\in B(c, r)$. Tome $C = \\{\\lambda \\in \\mathbf{R}; \\lambda = a_i'p\\}$ o conjunto de todos os produtos escalares de vetores $p \\in B(c, r)$ por $a_i$, e seja $\\lambda^* = \\text{max}(C)$, é evidente que $\\lambda \\leq \\lambda^*,  \\forall \\lambda \\in C$, e para que $B(c, r) \\subset P$ devemos ter $\\lambda^* \\leq b_i$. Portanto o problema é:\n",
        "\n",
        "\\begin{alignat*}{2}\n",
        "  & \\text{Maximizar: } & & r\\\\\n",
        "   & \\text{Sujeito à: }& \\quad & \\lambda^*=max(a_i'p) \\leq b_i\\begin{aligned}[t]\n",
        "                     & ,& i & =1, \\dots, m\\\\\n",
        "                \\end{aligned}\n",
        "\\end{alignat*}\n",
        "\n",
        "Vamos encontrar o valor de $\\lambda^*$. Temos que, geometricamente, a expressão $a_i'p$ representa a projeção do vetor $p$ no vetor $a_i$. Sabemos que $a_i'p = ||a_i||*||p||*cos(\\theta)$ onde $\\theta$ é o angulo entre os vetores. Dado um vetor $a_i$, o maior valor para a expressão será dado quanto maior o valor de $||p||$, ou seja, quando $t := t^*\\text{ e }||t^*|| = r$, e quando os vetores forem paralelos, isto é, quando $\\theta = 0$. Portanto teremos:\n",
        "$$\n",
        "\\lambda^* = a_i'c + a_i't^* = a_i'c + a_i'\\frac{a_i}{||a_i||}r = a_i'c + \\frac{||a_i||^2}{||a_i||}r = a_i'c + ||a_i||r\n",
        "$$\n",
        "\n",
        "Portanto, o problema pode ser representado pelo problema de otimização linear definido por:\n",
        "\n",
        "\\begin{alignat*}{2}\n",
        "  & \\text{Maximizar: } & & r\\\\\n",
        "   & \\text{Sujeito à: }& \\quad & a_i'c + ||a_i||r \\leq b_i\\begin{aligned}[t]\n",
        "                     & ,& i & =1, \\dots, m\\\\\n",
        "                \\end{aligned}\n",
        "\\end{alignat*} $\\square$\n",
        "\n",
        "#Uma aplicação prática em Python\n",
        "\n",
        "Agora, temos uma forma explicita de encontrar o Centro de Chebyshev, basta encontrar a solução ótima para o programa linear acima. Neste notebook, vamos tratar de encontrar uma solução para as seguintes configurações:\n",
        "\n",
        "$$\n",
        "A = \\begin{pmatrix}\n",
        " 5 &  5 \\\\\n",
        "-2 & -6 \\\\\n",
        "-4 &  2 \\\\\n",
        " 3 &  1\n",
        "\\end{pmatrix}\n",
        "\\quad\\text{e}\\quad\n",
        "b = \\begin{pmatrix}\n",
        " 20  \\\\\n",
        " 20 \\\\\n",
        " 20 \\\\\n",
        " 15\n",
        "\\end{pmatrix}\n",
        "$$\n",
        "\n",
        "Ou seja, temos um problema no $\\mathbf{R}^2$. Vamos começar importando as funções que iremos utilizar."
      ]
    },
    {
      "cell_type": "code",
      "metadata": {
        "id": "-O2pxpt2_Uq4"
      },
      "source": [
        "import numpy as np\n",
        "import matplotlib.pyplot as plt\n",
        "from scipy.optimize import linprog\n",
        "from IPython.display import clear_output"
      ],
      "execution_count": 1,
      "outputs": []
    },
    {
      "cell_type": "markdown",
      "metadata": {
        "id": "U0w3HU4bRXXJ"
      },
      "source": [
        "As funções à seguir são responsaveis por desenhar as retas que representam as fronteiras do polígono, e a região compreendida dentro delas."
      ]
    },
    {
      "cell_type": "code",
      "metadata": {
        "id": "h5Bpwz25Alje"
      },
      "source": [
        "def desenha_reta(parametros = None, restricao = None, cor = None):\n",
        "  pontos_x = []\n",
        "  pontos_y = []\n",
        "  for x in np.linspace(-10, 10, 100):\n",
        "    pontos_x.append(x)\n",
        "    pontos_y.append((restricao - parametros[0]*x)/parametros[1])\n",
        "\n",
        "  plt.plot(pontos_x, pontos_y, c=cor)\n",
        "\n",
        "def pinta_região(ini_x = -10, end_x = 10, ini_y = -10, end_y = 10, a = None, b = None, cor = 'r'):\n",
        "  pontos_x = []\n",
        "  pontos_y = []\n",
        "  for x in np.linspace(ini_x, end_x, 100):\n",
        "    for y in np.linspace(ini_y, end_y, 100):\n",
        "      if (a * np.matrix([[x], [y]]) <= np.array(b).reshape((-1,1))).all():\n",
        "        pontos_x.append(x)\n",
        "        pontos_y.append(y)\n",
        "  plt.scatter(x = pontos_x, y = pontos_y, c = cor, s = 0.1)"
      ],
      "execution_count": 2,
      "outputs": []
    },
    {
      "cell_type": "markdown",
      "metadata": {
        "id": "smYE4in6TGpb"
      },
      "source": [
        "Vamos mostrar no plano $xy$ como fica o conjunto dos pontos dentro do polígono executando o código a seguir:"
      ]
    },
    {
      "cell_type": "code",
      "metadata": {
        "colab": {
          "base_uri": "https://localhost:8080/",
          "height": 351
        },
        "id": "ZEaZlUvfBp7q",
        "outputId": "0b0c8ff1-6a04-4502-8dcd-5091690b5e12"
      },
      "source": [
        "reta1 = [5, 5]\n",
        "reta2 = [-2, -6]\n",
        "reta3 = [-4, 2]\n",
        "reta4 = [3,1]\n",
        "\n",
        "b = [20, 20, 20, 15]\n",
        "\n",
        "plt.figure(figsize=(6,5.5))\n",
        "\n",
        "desenha_reta(reta1, b[0], cor= 'b')\n",
        "desenha_reta(reta2, b[1], cor = 'r')\n",
        "desenha_reta(reta3, b[2], cor = 'g')\n",
        "desenha_reta(reta4, b[3], cor = 'k')\n",
        "\n",
        "pinta_região(a = np.matrix([reta1, reta2, reta3, reta4]), b = b)\n",
        "\n",
        "\n",
        "plt.ylim(-10, 10)\n",
        "plt.show()"
      ],
      "execution_count": 3,
      "outputs": [
        {
          "output_type": "display_data",
          "data": {
            "image/png": "[encoded data removed]",
            "text/plain": [
              "<Figure size 432x396 with 1 Axes>"
            ]
          },
          "metadata": {
            "needs_background": "light"
          }
        }
      ]
    },
    {
      "cell_type": "markdown",
      "metadata": {
        "id": "HnPiwYu1TRqJ"
      },
      "source": [
        "Essa visualização é muito boa para criarmos intuições e para estimar mais ou menos qual deveria ser o resultado e poder identificar alguns problemas no futuro!\n",
        "\n",
        "Agora, vamos estruturar a matriz de coeficientes para nosso programa linear. Teremos a seguinte estrutura:\n",
        "$$\n",
        "A= \\begin{pmatrix}\n",
        "a_1' & ||a_1|| \\\\\n",
        "a_2' & ||a_2||  \\\\\n",
        "a_3' & ||a_3||  \\\\\n",
        "a_4' & ||a_4|| \n",
        "\\end{pmatrix}\n",
        "$$\n",
        "Teremos então, em uma matriz do numpy:"
      ]
    },
    {
      "cell_type": "code",
      "metadata": {
        "id": "L7fKR4YcRCmM",
        "colab": {
          "base_uri": "https://localhost:8080/"
        },
        "outputId": "d964d1ce-a4be-4ab5-8d0c-06c9b7a459ed"
      },
      "source": [
        "A = np.matrix([reta1 + [np.linalg.norm(reta1)],\n",
        "              reta2 + [np.linalg.norm(reta2)],\n",
        "              reta3 + [np.linalg.norm(reta3)],\n",
        "              reta4 + [np.linalg.norm(reta4)]])\n",
        "\n",
        "A"
      ],
      "execution_count": 4,
      "outputs": [
        {
          "output_type": "execute_result",
          "data": {
            "text/plain": [
              "matrix([[ 5.        ,  5.        ,  7.07106781],\n",
              "        [-2.        , -6.        ,  6.32455532],\n",
              "        [-4.        ,  2.        ,  4.47213595],\n",
              "        [ 3.        ,  1.        ,  3.16227766]])"
            ]
          },
          "metadata": {},
          "execution_count": 4
        }
      ]
    },
    {
      "cell_type": "markdown",
      "metadata": {
        "id": "1z7ktJ6fUDmP"
      },
      "source": [
        "Agora, basta passarmos nossos dados para a função *linprog* do scipy e teremos nossa resposta. Um detalhe importante é que por padrão a função *linprog* considera as variáveis como positivas, como nesse caso não temos essa limitação, devemos explicitar que não devem ter limitações diretamente nas variaveis, setando nossas *bounds* para tuplas com *None*."
      ]
    },
    {
      "cell_type": "code",
      "metadata": {
        "colab": {
          "base_uri": "https://localhost:8080/"
        },
        "id": "Eqmed3cYH7kc",
        "outputId": "595e7414-2933-4cd3-9e9c-bdce3e662c37"
      },
      "source": [
        "otimizador = linprog(c = [0,0,-1], A_ub = A, b_ub = b, bounds = [(None, None) for k in range(A.shape[1])])\n",
        "clear_output()\n",
        "\n",
        "otimizador"
      ],
      "execution_count": 5,
      "outputs": [
        {
          "output_type": "execute_result",
          "data": {
            "text/plain": [
              "     con: array([], dtype=float64)\n",
              "     fun: -3.2692800512764455\n",
              " message: 'Optimization terminated successfully.'\n",
              "     nit: 5\n",
              "   slack: array([4.81100315e-09, 9.32018906e-10, 6.56694255e-10, 7.49384076e+00])\n",
              "  status: 0\n",
              " success: True\n",
              "       x: array([-1.10437592,  0.48091573,  3.26928005])"
            ]
          },
          "metadata": {},
          "execution_count": 5
        }
      ]
    },
    {
      "cell_type": "markdown",
      "metadata": {
        "id": "7b2sXKMOUzf-"
      },
      "source": [
        "O objeto apresenta um resumo do programa resolvido, incluindo soluções ótimas e o resultado da função custo. Nosso Centro de Chebyshev pode ser visto em *x* no resumo acima. Agora, vamos desenhar a solução que obtivemos e verificar nossa resposta."
      ]
    },
    {
      "cell_type": "code",
      "metadata": {
        "colab": {
          "base_uri": "https://localhost:8080/",
          "height": 351
        },
        "id": "HVzfMQRxSb58",
        "outputId": "9cf5d2b3-9344-4752-dff0-be12758fc79a"
      },
      "source": [
        "plt.figure(figsize=(6,5.5))\n",
        "\n",
        "desenha_reta(reta1, b[0], cor= 'b')\n",
        "desenha_reta(reta2, b[1], cor = 'r')\n",
        "desenha_reta(reta3, b[2], cor = 'g')\n",
        "desenha_reta(reta4, b[3], cor = 'k')\n",
        "\n",
        "centro = (otimizador.x[0], otimizador.x[1])\n",
        "raio = otimizador.x[2]\n",
        "circle1 = plt.Circle(centro, raio, color='r', fill = False)\n",
        "plt.gca().add_patch(circle1)\n",
        "\n",
        "plt.scatter(centro[0], centro[1], s = 10, c = 'k')\n",
        "\n",
        "plt.ylim(-10, 10)\n",
        "plt.show()"
      ],
      "execution_count": 6,
      "outputs": [
        {
          "output_type": "display_data",
          "data": {
            "image/png": "[encoded data removed]",
            "text/plain": [
              "<Figure size 432x396 with 1 Axes>"
            ]
          },
          "metadata": {
            "needs_background": "light"
          }
        }
      ]
    },
    {
      "cell_type": "markdown",
      "metadata": {
        "id": "NvUY7BmgVT7T"
      },
      "source": [
        "De fato, o programa funciona! Podemos utilizar essa estrutura para qualquer polígono convexo em $\\mathbf{R}^n$, não só no caso bidimensional. Espero ter ajudado! Para mais informações sobre o problema veja outras referências e resoluções:\n",
        "\n",
        "[1] Welke, Pascal, and Christian Bauckhage. ML2R Coding Nuggets: Solving Linear Programming Problems. Technical Report. MLAI, University of Bonn, 2020.\n",
        "\n",
        "[2] Lee, Chungmok, and Sungsoo Park. \"Chebyshev center based column generation.\" Discrete Applied Mathematics 159.18 (2011): 2251-2265.\n",
        "\n",
        "[3] https://see.stanford.edu/materials/lsocoee364a/04ConvexOptimizationProblems.pdf (Acessado em: 26/08/2021)\n",
        "\n",
        "[4] Boyd, Stephen, Stephen P. Boyd, and Lieven Vandenberghe. Convex optimization. Cambridge university press, 2004."
      ]
    }
  ]
}